{
 "cells": [
  {
   "cell_type": "markdown",
   "id": "5fee0a4d",
   "metadata": {
    "tags": []
   },
   "source": [
    "# Dependencies\n",
    "\n",
    "This application requires the following dependencies:\n",
    "- opencv-python 4.5.3.56\n",
    "- numpy 1.21.6\n",
    "- pandas 1.3.5\n",
    "- tensorflow 2.9.1\n",
    "- tensorflow-hub 0.12.0"
   ]
  },
  {
   "cell_type": "code",
   "execution_count": null,
   "id": "08ebe5bf",
   "metadata": {},
   "outputs": [],
   "source": [
    "!pip install opencv-python==4.5.3.56\n",
    "!pip install numpy==1.21.6\n",
    "!pip install pandas==1.3.5\n",
    "!pip install tensorflow==2.9.1\n",
    "!pip install tensorflow-hub==0.12.0"
   ]
  },
  {
   "cell_type": "markdown",
   "id": "32046b86-d871-40bf-9d78-ca919a5d4977",
   "metadata": {},
   "source": [
    "#### Set **use_camera_image = True** to use a camera image\n",
    "\n",
    "#### Set **use_camera_image = False** to use a predefined image (sample_image.png in this directory):\n",
    "<img src=\"sample_image.png\" />\n",
    "\n",
    "Sample image obtained from https://tfhub.dev/tensorflow/efficientdet/lite2/detection/1"
   ]
  },
  {
   "cell_type": "code",
   "execution_count": null,
   "id": "835b1f96-18fb-40a6-9443-7a684a0d2817",
   "metadata": {},
   "outputs": [],
   "source": [
    "use_camera_image = True"
   ]
  },
  {
   "cell_type": "code",
   "execution_count": null,
   "id": "1d8b3b25-bd3c-4db6-bd01-fab9e27313f7",
   "metadata": {},
   "outputs": [],
   "source": [
    "from arena_api import enums\n",
    "from arena_api.buffer import BufferFactory\n",
    "from arena_api.system import system\n",
    "\n",
    "import os\n",
    "os.environ['TF_CPP_MIN_LOG_LEVEL'] = '2'\n",
    "\n",
    "import tensorflow_hub as hub\n",
    "import cv2\n",
    "import numpy as np\n",
    "import tensorflow as tf\n",
    "import pandas as pd"
   ]
  },
  {
   "cell_type": "code",
   "execution_count": null,
   "id": "e9557537-b2a8-4859-ae7d-a34520de4829",
   "metadata": {},
   "outputs": [],
   "source": [
    "# This loads the model from the TensorFlow website\n",
    "# Labels are loaded locally (labels.csv included with this example)\n",
    "detector = hub.load(\"https://tfhub.dev/tensorflow/efficientdet/lite2/detection/1\")\n",
    "\n",
    "# Loading csv with labels of classes\n",
    "# csv file from https://github.com/gabrielcassimiro17/raspberry-pi-tensorflow/blob/main/labels.csv\n",
    "labels = pd.read_csv('labels.csv',sep=';',index_col='ID')\n",
    "labels = labels['OBJECT (2017 REL.)']"
   ]
  },
  {
   "cell_type": "markdown",
   "id": "a2c9a00b-421c-438f-8a4a-7f7e0b71ad34",
   "metadata": {},
   "source": [
    "# TensorFlow score threshold"
   ]
  },
  {
   "cell_type": "code",
   "execution_count": null,
   "id": "7ae03894-8b64-4871-8894-bdc44055f23b",
   "metadata": {},
   "outputs": [],
   "source": [
    "score_threshold = 0.4"
   ]
  },
  {
   "cell_type": "markdown",
   "id": "5a978e44-cd8f-4d4d-8336-240d7852a50d",
   "metadata": {},
   "source": [
    "### The following variables define the display window width and height"
   ]
  },
  {
   "cell_type": "code",
   "execution_count": null,
   "id": "a5a18198-4427-4836-b95e-f886edb11d5e",
   "metadata": {},
   "outputs": [],
   "source": [
    "window_width = 800\n",
    "window_height = 600"
   ]
  },
  {
   "cell_type": "markdown",
   "id": "d71bdcc4",
   "metadata": {},
   "source": [
    "### The following function waits for the user to select a device"
   ]
  },
  {
   "cell_type": "code",
   "execution_count": null,
   "id": "bc2da0d5",
   "metadata": {},
   "outputs": [],
   "source": [
    "def select_device_from_user_input():\n",
    "    \"\"\"\n",
    "    This function waits for the user to select a device\n",
    "    an exception\n",
    "    \"\"\"\n",
    "\n",
    "    device_infos = None\n",
    "    selected_index = None\n",
    "    while selected_index is None:\n",
    "        device_infos = system.device_infos\n",
    "        if len(device_infos) == 0:\n",
    "            print(\"No camera connected\\nPress enter to search again\")\n",
    "            input()\n",
    "            continue\n",
    "        print(\"Devices found:\")\n",
    "        for i in range(len(device_infos)):\n",
    "            print(f\"\\t{i}. {device_infos[i]['model']} SN: {device_infos[i]['serial']}\")\n",
    "\n",
    "        while True:\n",
    "            line = input(\"Selection: \")\n",
    "            try:\n",
    "                selected_index = int(line)\n",
    "                if 0 <= selected_index < len(device_infos):\n",
    "                    break\n",
    "                else:\n",
    "                    print(f\"Please enter a valid number between 0 and {len(device_infos)-1}\\n\")\n",
    "            except Exception as e:\n",
    "                print(\"\\nPlease enter a valid number\\n\")\n",
    "\n",
    "    selected_model = device_infos[selected_index]['model']\n",
    "    print(f\"\\nCreate device: {selected_model}...\")\n",
    "    device = system.create_device(device_infos=device_infos[selected_index])[0]\n",
    "    \n",
    "    return device"
   ]
  },
  {
   "cell_type": "markdown",
   "id": "b4c4d4d7-e4f8-4576-8c2d-8cc7695969e2",
   "metadata": {
    "tags": []
   },
   "source": [
    "### The following function sets up and runs the camera"
   ]
  },
  {
   "cell_type": "code",
   "execution_count": null,
   "id": "2079a9c6-5b75-4583-b1ea-cae9710e6691",
   "metadata": {},
   "outputs": [],
   "source": [
    "def run_camera():\n",
    "\n",
    "    # create devices\n",
    "    device = select_device_from_user_input()\n",
    "    \n",
    "    device.tl_stream_nodemap.get_node('StreamBufferHandlingMode').value = 'NewestOnly'\n",
    "    device.tl_stream_nodemap.get_node('StreamPacketResendEnable').value = True\n",
    "    device.tl_stream_nodemap.get_node('StreamAutoNegotiatePacketSize').value = True\n",
    "    \n",
    "    isp_bayer_pattern = device.nodemap.get_node('IspBayerPattern').value\n",
    "    is_color_camera = False\n",
    "    \n",
    "    if isp_bayer_pattern != 'NONE':\n",
    "        is_color_camera = True\n",
    "    \n",
    "    if is_color_camera == True:\n",
    "        device.nodemap.get_node('PixelFormat').value = \"BayerRG8\"\n",
    "    else:\n",
    "        device.nodemap.get_node('PixelFormat').value = \"Mono8\"\n",
    "        \n",
    "    # grab images -------------------------------------------------------------\n",
    "    get_image_buffers(device, is_color_camera)\n",
    "\n",
    "    # clean up ----------------------------------------------------------------\n",
    "\n",
    "    # This function call with no arguments will destroy all of the\n",
    "    # created devices. Having this call here is optional, if it is not\n",
    "    # here it will be called automatically when the system module is unloading.\n",
    "    system.destroy_device()\n",
    "    print('Destroyed all created devices')"
   ]
  },
  {
   "cell_type": "code",
   "execution_count": 1,
   "id": "13692683-0ba5-4799-ad5f-f20462d9e9f0",
   "metadata": {
    "tags": []
   },
   "outputs": [],
   "source": [
    "def process_image(display_img):\n",
    "    \n",
    "    input_img = cv2.resize(display_img,(window_width, window_height))\n",
    "    \n",
    "    # Convert image to RGB for TensorFlow\n",
    "    rgb_img = cv2.cvtColor(input_img, cv2.COLOR_BGR2RGB)\n",
    "\n",
    "    rgb_tensor = tf.convert_to_tensor(rgb_img, dtype=tf.uint8)\n",
    "\n",
    "    #Add dims to rgb_tensor\n",
    "    rgb_tensor = tf.expand_dims(rgb_tensor , 0)\n",
    "\n",
    "    boxes, scores, classes, num_detections = detector(rgb_tensor)\n",
    "\n",
    "    pred_labels = classes.numpy().astype('int')[0]\n",
    "\n",
    "    pred_labels = [labels[i] for i in pred_labels]\n",
    "    pred_boxes = boxes.numpy()[0].astype('int')\n",
    "    pred_scores = scores.numpy()[0]\n",
    "\n",
    "    #loop throughout the detections and place a box around it  \n",
    "    for score, (ymin,xmin,ymax,xmax), label in zip(pred_scores, pred_boxes, pred_labels):\n",
    "        if score < score_threshold:\n",
    "            continue\n",
    "\n",
    "        score_txt = f'{100 * round(score,0)}'\n",
    "        output_img = cv2.rectangle(rgb_img,(xmin, ymax),(xmax, ymin),(0,255,0),1)      \n",
    "        font = cv2.FONT_HERSHEY_SIMPLEX\n",
    "        cv2.putText(output_img, label,(xmin, ymax-10), font, 1, (255,255,255), 1, cv2.LINE_AA)\n",
    "        cv2.putText(output_img, score_txt,(xmax, ymax-10), font, 1, (255,255,255), 1, cv2.LINE_AA)\n",
    "        display_img = cv2.cvtColor(output_img, cv2.COLOR_RGB2BGR)\n",
    "        \n",
    "    return display_img"
   ]
  },
  {
   "cell_type": "code",
   "execution_count": null,
   "id": "dd38182f-225f-4a5e-8f02-716370166168",
   "metadata": {},
   "outputs": [],
   "source": [
    "def get_image_buffers(device, is_color_camera=False):\n",
    "    \n",
    "    key = -1\n",
    "    cv2.namedWindow(\"Image\", cv2.WINDOW_NORMAL)\n",
    "    \n",
    "    device.start_stream()\n",
    "    \n",
    "    while True:\n",
    "        image_buffer = device.get_buffer()  # optional args\n",
    "        nparray = np.ctypeslib.as_array(image_buffer.pdata,shape=(image_buffer.height, image_buffer.width, int(image_buffer.bits_per_pixel / 8))).reshape(image_buffer.height, image_buffer.width, int(image_buffer.bits_per_pixel / 8))\n",
    "\n",
    "        if is_color_camera == True:\n",
    "            #converted_img = BufferFactory.convert(image_buffer, enums.PixelFormat.BGR8)\n",
    "            #display_img = np.ctypeslib.as_array(converted_img.pdata,shape=(converted_img.height, converted_img.width, int(converted_img.bits_per_pixel / 8))).reshape(converted_img.height, converted_img.width, int(converted_img.bits_per_pixel / 8))\n",
    "            display_img = cv2.cvtColor(nparray, cv2.COLOR_BayerBG2BGR)\n",
    "            nparray = cv2.cvtColor(display_img, cv2.COLOR_BGR2GRAY)\n",
    "        else:\n",
    "            display_img = cv2.cvtColor(nparray, cv2.COLOR_GRAY2BGR)\n",
    "            \n",
    "        processed_image = process_image(display_img)\n",
    "            \n",
    "        cv2.resizeWindow(\"Image\", window_width, window_height)\n",
    "        cv2.imshow(\"Image\", processed_image)\n",
    "        \n",
    "        key = cv2.waitKey(1) & 0xFF\n",
    "        if key == ord(\"q\"):\n",
    "            break\n",
    "\n",
    "        #BufferFactory.destroy(converted_image)\n",
    "        device.requeue_buffer(image_buffer)\n",
    "\n",
    "    cv2.destroyAllWindows()\n",
    "    device.stop_stream()"
   ]
  },
  {
   "cell_type": "code",
   "execution_count": null,
   "id": "97802eba-9f33-4cb0-9c0c-b4d2a14dd708",
   "metadata": {},
   "outputs": [],
   "source": [
    "def read_sample_image():\n",
    "    \n",
    "    key = -1\n",
    "    cv2.namedWindow(\"Image\", cv2.WINDOW_NORMAL)\n",
    "    \n",
    "    display_img = cv2.imread(\"sample_image.png\", cv2.IMREAD_COLOR)\n",
    "    \n",
    "    processed_image = process_image(display_img)\n",
    "    \n",
    "    while True:\n",
    "        cv2.resizeWindow(\"Image\", window_width, window_height)\n",
    "        cv2.imshow(\"Image\", processed_image)\n",
    "\n",
    "        key = cv2.waitKey(1) & 0xFF\n",
    "        if key == ord(\"q\"):\n",
    "            break\n",
    "            \n",
    "    cv2.destroyAllWindows()"
   ]
  },
  {
   "cell_type": "code",
   "execution_count": null,
   "id": "e321fbf7",
   "metadata": {},
   "outputs": [],
   "source": [
    "if __name__ == '__main__':\n",
    "    try:\n",
    "        print('WARNING:\\nTHIS EXAMPLE MIGHT CHANGE THE DEVICE(S) SETTINGS!')\n",
    "        print('Example started')\n",
    "        \n",
    "        if use_camera_image == True:\n",
    "            run_camera()\n",
    "        else:\n",
    "            read_sample_image()\n",
    "        \n",
    "        print('Example finished successfully')\n",
    "    except BaseException as be:\n",
    "        print(be)\n",
    "        raise be"
   ]
  }
 ],
 "metadata": {
  "kernelspec": {
   "display_name": "Python 3 (ipykernel)",
   "language": "python",
   "name": "python3"
  },
  "language_info": {
   "codemirror_mode": {
    "name": "ipython",
    "version": 3
   },
   "file_extension": ".py",
   "mimetype": "text/x-python",
   "name": "python",
   "nbconvert_exporter": "python",
   "pygments_lexer": "ipython3",
   "version": "3.11.5"
  }
 },
 "nbformat": 4,
 "nbformat_minor": 5
}
